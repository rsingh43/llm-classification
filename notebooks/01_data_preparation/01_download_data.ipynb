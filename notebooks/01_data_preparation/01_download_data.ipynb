{
 "cells": [
  {
   "cell_type": "markdown",
   "id": "97153e9e",
   "metadata": {},
   "source": [
    "# 01_download_data\n",
    "\n",
    "This notebook downloads the dataset for the Kaggle competition [GiveMeSomeCredit](https://www.kaggle.com/c/GiveMeSomeCredit).\n",
    "\n",
    "**IMPORTANT:**  \n",
    "Before downloading or using this dataset, you **must** accept the competition rules and terms of use on Kaggle.  \n",
    "You can review and accept the rules here:  \n",
    "[https://www.kaggle.com/c/GiveMeSomeCredit/rules](https://www.kaggle.com/c/GiveMeSomeCredit/rules)\n",
    "\n",
    "---\n",
    "\n",
    "Once completed, the dataset will be saved locally for further processing and modeling."
   ]
  },
  {
   "cell_type": "markdown",
   "id": "c4aa64de",
   "metadata": {},
   "source": [
    "# Imports"
   ]
  },
  {
   "cell_type": "code",
   "execution_count": 1,
   "id": "23f01e66",
   "metadata": {},
   "outputs": [],
   "source": [
    "import sys\n",
    "\n",
    "sys.path.append(\"../../src\")\n",
    "from llm_classification.datasets import give_me_some_credit"
   ]
  },
  {
   "cell_type": "markdown",
   "id": "98842116",
   "metadata": {},
   "source": [
    "# Download the Kaggle Competition Dataset\n",
    "\n",
    "This code attempts to download the **GiveMeSomeCredit** dataset from Kaggle into the local data directory.\n",
    "\n",
    "- If the dataset already exists and `force=False`, the download will be skipped.\n",
    "- Setting `force=True` will redownload and extract the data, **overwriting any existing files** that are part of the original dataset.  \n",
    "- Files **not part of the original dataset** will remain unchanged in either case.\n"
   ]
  },
  {
   "cell_type": "code",
   "execution_count": 2,
   "id": "ac7de251",
   "metadata": {},
   "outputs": [
    {
     "name": "stdout",
     "output_type": "stream",
     "text": [
      "Zip file already exists at: /Users/rina/llm-classification/data/GiveMeSomeCredit/GiveMeSomeCredit.zip\n",
      "Extracting dataset to: /Users/rina/llm-classification/data/GiveMeSomeCredit/raw ...\n",
      "Skipped (up-to-date): Data Dictionary.xls\n",
      "Skipped (up-to-date): cs-test.csv\n",
      "Skipped (up-to-date): cs-training.csv\n",
      "Skipped (up-to-date): sampleEntry.csv\n"
     ]
    }
   ],
   "source": [
    "dataset_dir = give_me_some_credit.download_dataset(force=False)"
   ]
  }
 ],
 "metadata": {
  "kernelspec": {
   "display_name": "Python 3 (ipykernel)",
   "language": "python",
   "name": "python3"
  },
  "language_info": {
   "codemirror_mode": {
    "name": "ipython",
    "version": 3
   },
   "file_extension": ".py",
   "mimetype": "text/x-python",
   "name": "python",
   "nbconvert_exporter": "python",
   "pygments_lexer": "ipython3",
   "version": "3.11.7"
  }
 },
 "nbformat": 4,
 "nbformat_minor": 5
}
